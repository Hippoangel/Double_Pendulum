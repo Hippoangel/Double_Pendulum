{
  "cells": [
    {
      "cell_type": "code",
      "execution_count": null,
      "metadata": {
        "id": "pEpxoZ3HYE8s"
      },
      "outputs": [],
      "source": [
        "import os\n",
        "import pandas as pd\n",
        "import numpy as np\n",
        "from sklearn.preprocessing import MinMaxScaler\n",
        "#from sklearn.externals import joblib\n",
        "import seaborn as sns\n",
        "sns.set(color_codes=True)\n",
        "import matplotlib.pyplot as plt\n",
        "%matplotlib inline\n",
        "import tensorflow as tf\n",
        "from keras.layers import Input, Dropout, Dense, LSTM, TimeDistributed, RepeatVector\n",
        "from keras.models import Model, Sequential\n",
        "from keras import regularizers, layers"
      ]
    },
    {
      "cell_type": "code",
      "execution_count": null,
      "metadata": {
        "id": "dKEEVLRrY-ox"
      },
      "outputs": [],
      "source": [
        "#from google.colab import drive\n",
        "#drive.mount('/content/drive')"
      ]
    },
    {
      "cell_type": "code",
      "execution_count": null,
      "metadata": {
        "colab": {
          "base_uri": "https://localhost:8080/",
          "height": 424
        },
        "id": "xVXvlb-DZGhq",
        "outputId": "e255144d-2cc9-485e-9ca4-f780b1ab01d9"
      },
      "outputs": [
        {
          "data": {
            "text/html": [
              "<div>\n",
              "<style scoped>\n",
              "    .dataframe tbody tr th:only-of-type {\n",
              "        vertical-align: middle;\n",
              "    }\n",
              "\n",
              "    .dataframe tbody tr th {\n",
              "        vertical-align: top;\n",
              "    }\n",
              "\n",
              "    .dataframe thead th {\n",
              "        text-align: right;\n",
              "    }\n",
              "</style>\n",
              "<table border=\"1\" class=\"dataframe\">\n",
              "  <thead>\n",
              "    <tr style=\"text-align: right;\">\n",
              "      <th></th>\n",
              "      <th>x3</th>\n",
              "      <th>x4</th>\n",
              "      <th>x5</th>\n",
              "      <th>x6</th>\n",
              "    </tr>\n",
              "  </thead>\n",
              "  <tbody>\n",
              "    <tr>\n",
              "      <th>0</th>\n",
              "      <td>1008</td>\n",
              "      <td>1793</td>\n",
              "      <td>1466</td>\n",
              "      <td>1732</td>\n",
              "    </tr>\n",
              "    <tr>\n",
              "      <th>1</th>\n",
              "      <td>1039</td>\n",
              "      <td>1803</td>\n",
              "      <td>1494</td>\n",
              "      <td>1720</td>\n",
              "    </tr>\n",
              "    <tr>\n",
              "      <th>2</th>\n",
              "      <td>1072</td>\n",
              "      <td>1811</td>\n",
              "      <td>1522</td>\n",
              "      <td>1709</td>\n",
              "    </tr>\n",
              "    <tr>\n",
              "      <th>3</th>\n",
              "      <td>1105</td>\n",
              "      <td>1818</td>\n",
              "      <td>1551</td>\n",
              "      <td>1698</td>\n",
              "    </tr>\n",
              "    <tr>\n",
              "      <th>4</th>\n",
              "      <td>1138</td>\n",
              "      <td>1822</td>\n",
              "      <td>1579</td>\n",
              "      <td>1686</td>\n",
              "    </tr>\n",
              "    <tr>\n",
              "      <th>...</th>\n",
              "      <td>...</td>\n",
              "      <td>...</td>\n",
              "      <td>...</td>\n",
              "      <td>...</td>\n",
              "    </tr>\n",
              "    <tr>\n",
              "      <th>17776</th>\n",
              "      <td>1794</td>\n",
              "      <td>1310</td>\n",
              "      <td>1597</td>\n",
              "      <td>893</td>\n",
              "    </tr>\n",
              "    <tr>\n",
              "      <th>17777</th>\n",
              "      <td>1795</td>\n",
              "      <td>1307</td>\n",
              "      <td>1603</td>\n",
              "      <td>888</td>\n",
              "    </tr>\n",
              "    <tr>\n",
              "      <th>17778</th>\n",
              "      <td>1795</td>\n",
              "      <td>1305</td>\n",
              "      <td>1609</td>\n",
              "      <td>882</td>\n",
              "    </tr>\n",
              "    <tr>\n",
              "      <th>17779</th>\n",
              "      <td>1795</td>\n",
              "      <td>1302</td>\n",
              "      <td>1615</td>\n",
              "      <td>877</td>\n",
              "    </tr>\n",
              "    <tr>\n",
              "      <th>17780</th>\n",
              "      <td>1796</td>\n",
              "      <td>1300</td>\n",
              "      <td>1621</td>\n",
              "      <td>872</td>\n",
              "    </tr>\n",
              "  </tbody>\n",
              "</table>\n",
              "<p>17781 rows × 4 columns</p>\n",
              "</div>"
            ],
            "text/plain": [
              "         x3    x4    x5    x6\n",
              "0      1008  1793  1466  1732\n",
              "1      1039  1803  1494  1720\n",
              "2      1072  1811  1522  1709\n",
              "3      1105  1818  1551  1698\n",
              "4      1138  1822  1579  1686\n",
              "...     ...   ...   ...   ...\n",
              "17776  1794  1310  1597   893\n",
              "17777  1795  1307  1603   888\n",
              "17778  1795  1305  1609   882\n",
              "17779  1795  1302  1615   877\n",
              "17780  1796  1300  1621   872\n",
              "\n",
              "[17781 rows x 4 columns]"
            ]
          },
          "execution_count": 12,
          "metadata": {},
          "output_type": "execute_result"
        }
      ],
      "source": [
        "df_source = pd.read_csv('/content/drive/MyDrive/dpc_dataset_csv/0.csv')\n",
        "df_source.columns = ['x1','x2','x3','x4','x5','x6']\n",
        "df_a=df_source.drop(['x1','x2'],axis=1)\n",
        "df_a"
      ]
    },
    {
      "cell_type": "code",
      "execution_count": null,
      "metadata": {
        "colab": {
          "base_uri": "https://localhost:8080/"
        },
        "id": "3tFbe-w0ZNye",
        "outputId": "825df344-d055-4259-b306-c14e53eaa241"
      },
      "outputs": [
        {
          "name": "stdout",
          "output_type": "stream",
          "text": [
            "Training dataset shape: (10000, 4)\n",
            "Test dataset shape: (7781, 4)\n"
          ]
        }
      ],
      "source": [
        "merged_data = df_a\n",
        "train = merged_data[0:10000]\n",
        "test = merged_data[10000:17781]\n",
        "print(\"Training dataset shape:\", train.shape)\n",
        "print(\"Test dataset shape:\", test.shape)"
      ]
    },
    {
      "cell_type": "code",
      "execution_count": null,
      "metadata": {
        "id": "MG3quI1UYMx2"
      },
      "outputs": [],
      "source": [
        "scaler = MinMaxScaler()\n",
        "X_train = scaler.fit_transform(train)\n",
        "X_test = scaler.transform(test)\n",
        "scaler_filename = \"scaler_data\"\n"
      ]
    },
    {
      "cell_type": "code",
      "execution_count": null,
      "metadata": {
        "colab": {
          "base_uri": "https://localhost:8080/"
        },
        "id": "7310Ceq0Y487",
        "outputId": "caf7b2e2-a4c3-4020-b89a-5efd1caf7271"
      },
      "outputs": [
        {
          "name": "stdout",
          "output_type": "stream",
          "text": [
            "Training data shape: (10000, 1, 4)\n",
            "Test data shape: (7781, 1, 4)\n"
          ]
        }
      ],
      "source": [
        "X_train = X_train.reshape(X_train.shape[0], 1, X_train.shape[1])\n",
        "print(\"Training data shape:\", X_train.shape)\n",
        "X_test = X_test.reshape(X_test.shape[0], 1, X_test.shape[1])\n",
        "print(\"Test data shape:\", X_test.shape)"
      ]
    },
    {
      "cell_type": "code",
      "execution_count": null,
      "metadata": {
        "id": "uvMqEOeWcHot"
      },
      "outputs": [],
      "source": [
        "model = Sequential()\n",
        "model.add(LSTM(\n",
        "        256,\n",
        "        input_shape=(X_train.shape[1], X_train.shape[2]),\n",
        "        return_sequences=True\n",
        "    ))\n",
        "model.add(Dropout(0.3))\n",
        "model.add(LSTM(512, return_sequences=True))\n",
        "model.add(Dropout(0.3))\n",
        "model.add(LSTM(256))\n",
        "model.add(Dense(256))\n",
        "model.add(Dropout(0.3))\n",
        "model.add(layers.Dense(X_train.shape[2], activation='relu'))\n",
        "model.compile(loss='categorical_crossentropy', optimizer='rmsprop')"
      ]
    },
    {
      "cell_type": "code",
      "execution_count": null,
      "metadata": {
        "colab": {
          "base_uri": "https://localhost:8080/"
        },
        "id": "UA2VAvuycJuN",
        "outputId": "b3882a79-f95d-425c-bc27-0a2f3276fd6a"
      },
      "outputs": [
        {
          "name": "stdout",
          "output_type": "stream",
          "text": [
            "Model: \"sequential_1\"\n",
            "_________________________________________________________________\n",
            " Layer (type)                Output Shape              Param #   \n",
            "=================================================================\n",
            " lstm_3 (LSTM)               (None, 1, 256)            267264    \n",
            "                                                                 \n",
            " dropout_3 (Dropout)         (None, 1, 256)            0         \n",
            "                                                                 \n",
            " lstm_4 (LSTM)               (None, 1, 512)            1574912   \n",
            "                                                                 \n",
            " dropout_4 (Dropout)         (None, 1, 512)            0         \n",
            "                                                                 \n",
            " lstm_5 (LSTM)               (None, 256)               787456    \n",
            "                                                                 \n",
            " dense_2 (Dense)             (None, 256)               65792     \n",
            "                                                                 \n",
            " dropout_5 (Dropout)         (None, 256)               0         \n",
            "                                                                 \n",
            " dense_3 (Dense)             (None, 4)                 1028      \n",
            "                                                                 \n",
            "=================================================================\n",
            "Total params: 2,696,452\n",
            "Trainable params: 2,696,452\n",
            "Non-trainable params: 0\n",
            "_________________________________________________________________\n"
          ]
        }
      ],
      "source": [
        "\n",
        "model.compile(optimizer='adam', loss='mae')\n",
        "model.summary()"
      ]
    },
    {
      "cell_type": "code",
      "execution_count": null,
      "metadata": {
        "colab": {
          "background_save": true,
          "base_uri": "https://localhost:8080/"
        },
        "id": "GIiBIINjcONN",
        "outputId": "561c1452-fd44-4d1e-a256-f59f6a36ca7c"
      },
      "outputs": [
        {
          "name": "stdout",
          "output_type": "stream",
          "text": [
            "Epoch 1/100\n",
            "950/950 [==============================] - 41s 38ms/step - loss: 0.2611 - val_loss: 0.2391\n",
            "Epoch 2/100\n",
            "950/950 [==============================] - 40s 42ms/step - loss: 0.2565 - val_loss: 0.2325\n",
            "Epoch 3/100\n",
            "950/950 [==============================] - 35s 37ms/step - loss: 0.2565 - val_loss: 0.2219\n",
            "Epoch 4/100\n",
            "950/950 [==============================] - 33s 35ms/step - loss: 0.2565 - val_loss: 0.2215\n",
            "Epoch 5/100\n",
            "950/950 [==============================] - 34s 35ms/step - loss: 0.2561 - val_loss: 0.2293\n",
            "Epoch 6/100\n",
            "950/950 [==============================] - 34s 35ms/step - loss: 0.2558 - val_loss: 0.2448\n",
            "Epoch 7/100\n",
            "950/950 [==============================] - 37s 38ms/step - loss: 0.2560 - val_loss: 0.2287\n",
            "Epoch 8/100\n",
            "950/950 [==============================] - 33s 35ms/step - loss: 0.2556 - val_loss: 0.2308\n",
            "Epoch 9/100\n",
            "950/950 [==============================] - 33s 35ms/step - loss: 0.2554 - val_loss: 0.2239\n",
            "Epoch 10/100\n",
            "950/950 [==============================] - 33s 34ms/step - loss: 0.2557 - val_loss: 0.2233\n",
            "Epoch 11/100\n",
            "950/950 [==============================] - 32s 34ms/step - loss: 0.2551 - val_loss: 0.2241\n",
            "Epoch 12/100\n",
            "950/950 [==============================] - 32s 34ms/step - loss: 0.2553 - val_loss: 0.2053\n",
            "Epoch 13/100\n",
            "950/950 [==============================] - 33s 34ms/step - loss: 0.2556 - val_loss: 0.2299\n",
            "Epoch 14/100\n",
            "950/950 [==============================] - 36s 38ms/step - loss: 0.2552 - val_loss: 0.2077\n",
            "Epoch 15/100\n",
            "950/950 [==============================] - 32s 34ms/step - loss: 0.2552 - val_loss: 0.2259\n",
            "Epoch 16/100\n",
            "950/950 [==============================] - 33s 34ms/step - loss: 0.2550 - val_loss: 0.2238\n",
            "Epoch 17/100\n",
            "950/950 [==============================] - 33s 35ms/step - loss: 0.2550 - val_loss: 0.2180\n",
            "Epoch 18/100\n",
            "950/950 [==============================] - 33s 35ms/step - loss: 0.2553 - val_loss: 0.2271\n",
            "Epoch 19/100\n",
            "950/950 [==============================] - 33s 35ms/step - loss: 0.2548 - val_loss: 0.2130\n",
            "Epoch 20/100\n",
            "950/950 [==============================] - 34s 36ms/step - loss: 0.2550 - val_loss: 0.2128\n",
            "Epoch 21/100\n",
            "950/950 [==============================] - 34s 36ms/step - loss: 0.2552 - val_loss: 0.2300\n",
            "Epoch 22/100\n",
            "950/950 [==============================] - 33s 35ms/step - loss: 0.2546 - val_loss: 0.2094\n",
            "Epoch 23/100\n",
            "950/950 [==============================] - 35s 37ms/step - loss: 0.2547 - val_loss: 0.2035\n",
            "Epoch 24/100\n",
            "950/950 [==============================] - 38s 40ms/step - loss: 0.2549 - val_loss: 0.2219\n",
            "Epoch 25/100\n",
            "950/950 [==============================] - 37s 39ms/step - loss: 0.2547 - val_loss: 0.2201\n",
            "Epoch 26/100\n",
            "950/950 [==============================] - 36s 38ms/step - loss: 0.2546 - val_loss: 0.2184\n",
            "Epoch 27/100\n",
            "950/950 [==============================] - 35s 37ms/step - loss: 0.2543 - val_loss: 0.2194\n",
            "Epoch 28/100\n",
            "950/950 [==============================] - 32s 33ms/step - loss: 0.2545 - val_loss: 0.2181\n",
            "Epoch 29/100\n",
            "950/950 [==============================] - 29s 31ms/step - loss: 0.2542 - val_loss: 0.2108\n",
            "Epoch 30/100\n",
            "950/950 [==============================] - 28s 30ms/step - loss: 0.2542 - val_loss: 0.2214\n",
            "Epoch 31/100\n",
            "950/950 [==============================] - 27s 29ms/step - loss: 0.2541 - val_loss: 0.2004\n",
            "Epoch 32/100\n",
            "950/950 [==============================] - 28s 29ms/step - loss: 0.2542 - val_loss: 0.2090\n",
            "Epoch 33/100\n",
            "950/950 [==============================] - 28s 29ms/step - loss: 0.2538 - val_loss: 0.2177\n",
            "Epoch 34/100\n",
            "950/950 [==============================] - 28s 29ms/step - loss: 0.2544 - val_loss: 0.2135\n",
            "Epoch 35/100\n",
            "950/950 [==============================] - 27s 29ms/step - loss: 0.2539 - val_loss: 0.2065\n",
            "Epoch 36/100\n",
            "950/950 [==============================] - 27s 29ms/step - loss: 0.2541 - val_loss: 0.2199\n",
            "Epoch 37/100\n",
            "950/950 [==============================] - 28s 29ms/step - loss: 0.2538 - val_loss: 0.2022\n",
            "Epoch 38/100\n",
            "950/950 [==============================] - 27s 29ms/step - loss: 0.2539 - val_loss: 0.2226\n",
            "Epoch 39/100\n",
            "950/950 [==============================] - 27s 29ms/step - loss: 0.2539 - val_loss: 0.2153\n",
            "Epoch 40/100\n",
            "950/950 [==============================] - 27s 28ms/step - loss: 0.2540 - val_loss: 0.2080\n",
            "Epoch 41/100\n",
            "950/950 [==============================] - 27s 28ms/step - loss: 0.2540 - val_loss: 0.2142\n",
            "Epoch 42/100\n",
            "950/950 [==============================] - 26s 28ms/step - loss: 0.2541 - val_loss: 0.2198\n",
            "Epoch 43/100\n",
            "950/950 [==============================] - 26s 28ms/step - loss: 0.2539 - val_loss: 0.2231\n",
            "Epoch 44/100\n",
            "950/950 [==============================] - 26s 28ms/step - loss: 0.2539 - val_loss: 0.2235\n",
            "Epoch 45/100\n",
            "950/950 [==============================] - 26s 28ms/step - loss: 0.2539 - val_loss: 0.2095\n",
            "Epoch 46/100\n",
            "950/950 [==============================] - 27s 28ms/step - loss: 0.2539 - val_loss: 0.2066\n",
            "Epoch 47/100\n",
            "950/950 [==============================] - 26s 28ms/step - loss: 0.2540 - val_loss: 0.2044\n",
            "Epoch 48/100\n",
            "950/950 [==============================] - 26s 28ms/step - loss: 0.2539 - val_loss: 0.2093\n",
            "Epoch 49/100\n",
            "950/950 [==============================] - 27s 28ms/step - loss: 0.2535 - val_loss: 0.2007\n",
            "Epoch 50/100\n",
            "950/950 [==============================] - 27s 28ms/step - loss: 0.2539 - val_loss: 0.2126\n",
            "Epoch 51/100\n",
            "950/950 [==============================] - 27s 28ms/step - loss: 0.2537 - val_loss: 0.2177\n",
            "Epoch 52/100\n",
            "950/950 [==============================] - 27s 29ms/step - loss: 0.2537 - val_loss: 0.2085\n",
            "Epoch 53/100\n",
            "950/950 [==============================] - 27s 29ms/step - loss: 0.2538 - val_loss: 0.2130\n",
            "Epoch 54/100\n",
            "950/950 [==============================] - 27s 29ms/step - loss: 0.2538 - val_loss: 0.2090\n",
            "Epoch 55/100\n",
            "950/950 [==============================] - 27s 29ms/step - loss: 0.2535 - val_loss: 0.2058\n",
            "Epoch 56/100\n",
            "950/950 [==============================] - 27s 29ms/step - loss: 0.2539 - val_loss: 0.2137\n",
            "Epoch 57/100\n",
            "950/950 [==============================] - 27s 29ms/step - loss: 0.2541 - val_loss: 0.2143\n",
            "Epoch 58/100\n",
            "950/950 [==============================] - 27s 29ms/step - loss: 0.2541 - val_loss: 0.2155\n",
            "Epoch 59/100\n",
            "950/950 [==============================] - 27s 29ms/step - loss: 0.2538 - val_loss: 0.2051\n",
            "Epoch 60/100\n",
            "950/950 [==============================] - 27s 28ms/step - loss: 0.2541 - val_loss: 0.2174\n",
            "Epoch 61/100\n",
            "950/950 [==============================] - 27s 28ms/step - loss: 0.2538 - val_loss: 0.1984\n",
            "Epoch 62/100\n",
            "950/950 [==============================] - 27s 28ms/step - loss: 0.2539 - val_loss: 0.2060\n",
            "Epoch 63/100\n",
            "950/950 [==============================] - 27s 28ms/step - loss: 0.2539 - val_loss: 0.2161\n",
            "Epoch 64/100\n",
            "950/950 [==============================] - 27s 28ms/step - loss: 0.2540 - val_loss: 0.2127\n",
            "Epoch 65/100\n",
            "950/950 [==============================] - 27s 28ms/step - loss: 0.2541 - val_loss: 0.2124\n",
            "Epoch 66/100\n",
            "950/950 [==============================] - 27s 29ms/step - loss: 0.2536 - val_loss: 0.2147\n",
            "Epoch 67/100\n",
            "950/950 [==============================] - 27s 29ms/step - loss: 0.2536 - val_loss: 0.2083\n",
            "Epoch 68/100\n",
            "950/950 [==============================] - 27s 29ms/step - loss: 0.2537 - val_loss: 0.2080\n",
            "Epoch 69/100\n",
            "950/950 [==============================] - 27s 29ms/step - loss: 0.2539 - val_loss: 0.2118\n",
            "Epoch 70/100\n",
            "950/950 [==============================] - 27s 29ms/step - loss: 0.2540 - val_loss: 0.2118\n",
            "Epoch 71/100\n",
            "950/950 [==============================] - 27s 29ms/step - loss: 0.2539 - val_loss: 0.2131\n",
            "Epoch 72/100\n",
            "950/950 [==============================] - 27s 29ms/step - loss: 0.2538 - val_loss: 0.2150\n",
            "Epoch 73/100\n",
            "950/950 [==============================] - 27s 29ms/step - loss: 0.2539 - val_loss: 0.2097\n",
            "Epoch 74/100\n",
            "950/950 [==============================] - 27s 29ms/step - loss: 0.2537 - val_loss: 0.2156\n",
            "Epoch 75/100\n",
            "950/950 [==============================] - 27s 29ms/step - loss: 0.2537 - val_loss: 0.2018\n",
            "Epoch 76/100\n",
            "950/950 [==============================] - 27s 29ms/step - loss: 0.2541 - val_loss: 0.2120\n",
            "Epoch 77/100\n",
            "950/950 [==============================] - 28s 29ms/step - loss: 0.2540 - val_loss: 0.2274\n",
            "Epoch 78/100\n",
            "950/950 [==============================] - 27s 29ms/step - loss: 0.2538 - val_loss: 0.2181\n",
            "Epoch 79/100\n",
            "950/950 [==============================] - 27s 29ms/step - loss: 0.2539 - val_loss: 0.2191\n",
            "Epoch 80/100\n",
            "950/950 [==============================] - 27s 28ms/step - loss: 0.2538 - val_loss: 0.2083\n",
            "Epoch 81/100\n",
            "950/950 [==============================] - 27s 29ms/step - loss: 0.2537 - val_loss: 0.2069\n",
            "Epoch 82/100\n",
            "950/950 [==============================] - 27s 29ms/step - loss: 0.2538 - val_loss: 0.2141\n",
            "Epoch 83/100\n",
            "950/950 [==============================] - 27s 29ms/step - loss: 0.2541 - val_loss: 0.2158\n",
            "Epoch 84/100\n",
            "950/950 [==============================] - 27s 29ms/step - loss: 0.2537 - val_loss: 0.2125\n",
            "Epoch 85/100\n",
            "950/950 [==============================] - 27s 29ms/step - loss: 0.2537 - val_loss: 0.2083\n",
            "Epoch 86/100\n",
            "950/950 [==============================] - 27s 29ms/step - loss: 0.2539 - val_loss: 0.2108\n",
            "Epoch 87/100\n",
            "950/950 [==============================] - 28s 29ms/step - loss: 0.2537 - val_loss: 0.2044\n",
            "Epoch 88/100\n",
            "950/950 [==============================] - 27s 29ms/step - loss: 0.2538 - val_loss: 0.2106\n",
            "Epoch 89/100\n",
            "950/950 [==============================] - 27s 29ms/step - loss: 0.2538 - val_loss: 0.2018\n",
            "Epoch 90/100\n",
            "950/950 [==============================] - 28s 29ms/step - loss: 0.2538 - val_loss: 0.2166\n",
            "Epoch 91/100\n",
            "950/950 [==============================] - 28s 29ms/step - loss: 0.2540 - val_loss: 0.2180\n",
            "Epoch 92/100\n",
            "950/950 [==============================] - 28s 29ms/step - loss: 0.2538 - val_loss: 0.2139\n",
            "Epoch 93/100\n",
            "950/950 [==============================] - 27s 29ms/step - loss: 0.2536 - val_loss: 0.2093\n",
            "Epoch 94/100\n",
            "950/950 [==============================] - 27s 29ms/step - loss: 0.2538 - val_loss: 0.2186\n",
            "Epoch 95/100\n",
            "950/950 [==============================] - 28s 29ms/step - loss: 0.2538 - val_loss: 0.2100\n",
            "Epoch 96/100\n",
            "950/950 [==============================] - 27s 29ms/step - loss: 0.2540 - val_loss: 0.2196\n",
            "Epoch 97/100\n",
            "950/950 [==============================] - 27s 29ms/step - loss: 0.2538 - val_loss: 0.2042\n",
            "Epoch 98/100\n",
            "950/950 [==============================] - 27s 29ms/step - loss: 0.2537 - val_loss: 0.1987\n",
            "Epoch 99/100\n",
            "950/950 [==============================] - 27s 29ms/step - loss: 0.2536 - val_loss: 0.2089\n",
            "Epoch 100/100\n",
            "950/950 [==============================] - 27s 29ms/step - loss: 0.2536 - val_loss: 0.2119\n"
          ]
        }
      ],
      "source": [
        "nb_epochs = 100\n",
        "batch_size = 10\n",
        "history = model.fit(X_train, X_train, epochs=nb_epochs, batch_size=batch_size,\n",
        "                    validation_split=0.05).history"
      ]
    },
    {
      "cell_type": "code",
      "execution_count": null,
      "metadata": {
        "colab": {
          "background_save": true
        },
        "id": "qX4mIK4rcRq_",
        "outputId": "ce54c6c0-a63e-402d-b787-19e73cf35cad"
      },
      "outputs": [
        {
          "data": {
            "image/png": "[encoded data removed]",
            "text/plain": [
              "<Figure size 1120x480 with 1 Axes>"
            ]
          },
          "metadata": {},
          "output_type": "display_data"
        }
      ],
      "source": [
        "xfig, ax = plt.subplots(figsize=(14, 6), dpi=80)\n",
        "ax.plot(history['loss'], 'b', label='Train', linewidth=2)\n",
        "ax.plot(history['val_loss'], 'r', label='Validation', linewidth=2)\n",
        "ax.set_title('Model loss', fontsize=16)\n",
        "ax.set_ylabel('Loss (mae)')\n",
        "ax.set_xlabel('Epoch')\n",
        "ax.legend(loc='upper right')\n",
        "plt.show()"
      ]
    },
    {
      "cell_type": "code",
      "execution_count": null,
      "metadata": {
        "colab": {
          "background_save": true
        },
        "id": "otapPK5acxUp",
        "outputId": "8c7e9267-acdc-4e85-e075-c7b845026d77"
      },
      "outputs": [
        {
          "ename": "IndexError",
          "evalue": "ignored",
          "output_type": "error",
          "traceback": [
            "\u001b[0;31m---------------------------------------------------------------------------\u001b[0m",
            "\u001b[0;31mIndexError\u001b[0m                                Traceback (most recent call last)",
            "\u001b[0;32m<ipython-input-20-bce9dbc1da5d>\u001b[0m in \u001b[0;36m<module>\u001b[0;34m()\u001b[0m\n\u001b[1;32m      1\u001b[0m \u001b[0mX_pred\u001b[0m \u001b[0;34m=\u001b[0m \u001b[0mmodel\u001b[0m\u001b[0;34m.\u001b[0m\u001b[0mpredict\u001b[0m\u001b[0;34m(\u001b[0m\u001b[0mX_train\u001b[0m\u001b[0;34m)\u001b[0m\u001b[0;34m\u001b[0m\u001b[0;34m\u001b[0m\u001b[0m\n\u001b[0;32m----> 2\u001b[0;31m \u001b[0mX_pred\u001b[0m \u001b[0;34m=\u001b[0m \u001b[0mX_pred\u001b[0m\u001b[0;34m.\u001b[0m\u001b[0mreshape\u001b[0m\u001b[0;34m(\u001b[0m\u001b[0mX_pred\u001b[0m\u001b[0;34m.\u001b[0m\u001b[0mshape\u001b[0m\u001b[0;34m[\u001b[0m\u001b[0;36m0\u001b[0m\u001b[0;34m]\u001b[0m\u001b[0;34m,\u001b[0m \u001b[0mX_pred\u001b[0m\u001b[0;34m.\u001b[0m\u001b[0mshape\u001b[0m\u001b[0;34m[\u001b[0m\u001b[0;36m2\u001b[0m\u001b[0;34m]\u001b[0m\u001b[0;34m)\u001b[0m\u001b[0;34m\u001b[0m\u001b[0;34m\u001b[0m\u001b[0m\n\u001b[0m\u001b[1;32m      3\u001b[0m \u001b[0mX_pred\u001b[0m \u001b[0;34m=\u001b[0m \u001b[0mpd\u001b[0m\u001b[0;34m.\u001b[0m\u001b[0mDataFrame\u001b[0m\u001b[0;34m(\u001b[0m\u001b[0mX_pred\u001b[0m\u001b[0;34m,\u001b[0m \u001b[0mcolumns\u001b[0m\u001b[0;34m=\u001b[0m\u001b[0mtrain\u001b[0m\u001b[0;34m.\u001b[0m\u001b[0mcolumns\u001b[0m\u001b[0;34m)\u001b[0m\u001b[0;34m\u001b[0m\u001b[0;34m\u001b[0m\u001b[0m\n\u001b[1;32m      4\u001b[0m \u001b[0mX_pred\u001b[0m\u001b[0;34m.\u001b[0m\u001b[0mindex\u001b[0m \u001b[0;34m=\u001b[0m \u001b[0mtrain\u001b[0m\u001b[0;34m.\u001b[0m\u001b[0mindex\u001b[0m\u001b[0;34m\u001b[0m\u001b[0;34m\u001b[0m\u001b[0m\n\u001b[1;32m      5\u001b[0m \u001b[0;34m\u001b[0m\u001b[0m\n",
            "\u001b[0;31mIndexError\u001b[0m: tuple index out of range"
          ]
        }
      ],
      "source": [
        "X_pred = model.predict(X_train)\n",
        "X_pred = X_pred.reshape(X_pred.shape[0], X_pred.shape[2])\n",
        "X_pred = pd.DataFrame(X_pred, columns=train.columns)\n",
        "X_pred.index = train.index\n",
        "\n",
        "scored = pd.DataFrame(index=train.index)\n",
        "Xtrain = X_train.reshape(X_train.shape[0], X_train.shape[2])\n",
        "scored['Loss_mae'] = np.mean(np.abs(X_pred-Xtrain), axis = 1)\n",
        "plt.figure(figsize=(16,9), dpi=80)\n",
        "plt.title('Loss Distribution', fontsize=16)\n",
        "sns.distplot(scored['Loss_mae'], bins = 20, kde= True, color = 'blue');\n",
        "plt.xlim([0.0,.5])"
      ]
    },
    {
      "cell_type": "code",
      "execution_count": null,
      "metadata": {
        "colab": {
          "background_save": true
        },
        "id": "Up3PWAwzccOZ"
      },
      "outputs": [],
      "source": [
        "X_pred = model.predict(X_test)\n",
        "X_pred = X_pred.reshape(X_pred.shape[0], X_pred.shape[2])\n",
        "X_pred = pd.DataFrame(X_pred, columns=test.columns)\n",
        "X_pred.index = test.index"
      ]
    },
    {
      "cell_type": "code",
      "execution_count": null,
      "metadata": {
        "colab": {
          "background_save": true
        },
        "id": "31rUnvuOfqF6"
      },
      "outputs": [],
      "source": [
        "X_pred_train = model.predict(X_train)\n",
        "X_pred_train = X_pred_train.reshape(X_pred_train.shape[0], X_pred_train.shape[2])\n",
        "X_pred_train = pd.DataFrame(X_pred_train, columns=train.columns)\n",
        "X_pred_train.index = train.index\n",
        "Xtest = X_test.reshape(X_test.shape[0], X_test.shape[2])\n"
      ]
    },
    {
      "cell_type": "code",
      "execution_count": null,
      "metadata": {
        "colab": {
          "background_save": true
        },
        "id": "DqqL6rUXc2OO"
      },
      "outputs": [],
      "source": [
        "plt.plot(X_pred['x6'])\n",
        "Target = []\n",
        "Target2 = []\n",
        "for i in range(0,7780):\n",
        "  Target2.append(Xtest[i][3])\n",
        "#  Target.append(Xtest[i][3])\n",
        "plt.plot(Target2)\n",
        "plt.plot(Target)"
      ]
    },
    {
      "cell_type": "code",
      "execution_count": null,
      "metadata": {
        "colab": {
          "background_save": true
        },
        "id": "omxGUb5t7LYU"
      },
      "outputs": [],
      "source": [
        "plt.plot(Target)"
      ]
    },
    {
      "cell_type": "code",
      "execution_count": null,
      "metadata": {
        "colab": {
          "background_save": true
        },
        "id": "TKsQrXHkc7KO"
      },
      "outputs": [],
      "source": [
        "Xtest = X_test.reshape(X_test.shape[0], X_test.shape[2])\n",
        "plt.plot(X_pred)"
      ]
    },
    {
      "cell_type": "code",
      "execution_count": null,
      "metadata": {
        "colab": {
          "background_save": true
        },
        "id": "lBiUvE9MdVWU"
      },
      "outputs": [],
      "source": [
        "plt.plot(test)"
      ]
    },
    {
      "cell_type": "code",
      "execution_count": null,
      "metadata": {
        "colab": {
          "background_save": true
        },
        "id": "F6EMfHYMgxrz"
      },
      "outputs": [],
      "source": [
        ""
      ]
    }
  ],
  "metadata": {
    "colab": {
      "collapsed_sections": [],
      "name": "Copy of LSTMforChaos.ipynb",
      "provenance": []
    },
    "kernelspec": {
      "display_name": "Python 3",
      "name": "python3"
    },
    "language_info": {
      "name": "python"
    }
  },
  "nbformat": 4,
  "nbformat_minor": 0
}